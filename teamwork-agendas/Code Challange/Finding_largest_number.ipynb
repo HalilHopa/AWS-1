{
 "cells": [
  {
   "cell_type": "code",
   "execution_count": null,
   "id": "d4e9e231",
   "metadata": {},
   "outputs": [
    {
     "name": "stdout",
     "output_type": "stream",
     "text": [
      "Enter the number: 3\n"
     ]
    }
   ],
   "source": [
    "count=0\n",
    "list = []\n",
    "while count < 5:\n",
    "    number= int(input(\"Enter the number: \"))\n",
    "    list.append(number)\n",
    "    count = count +1\n",
    "def largestnum(nums):\n",
    "    largest= nums[0]\n",
    "    for i in nums:\n",
    "        if i > largest:\n",
    "            largest = i\n",
    "    return largest\n",
    "print(largestnum(list))       "
   ]
  },
  {
   "cell_type": "code",
   "execution_count": null,
   "id": "051b4f72",
   "metadata": {},
   "outputs": [],
   "source": []
  }
 ],
 "metadata": {
  "kernelspec": {
   "display_name": "Python 3",
   "language": "python",
   "name": "python3"
  },
  "language_info": {
   "codemirror_mode": {
    "name": "ipython",
    "version": 3
   },
   "file_extension": ".py",
   "mimetype": "text/x-python",
   "name": "python",
   "nbconvert_exporter": "python",
   "pygments_lexer": "ipython3",
   "version": "3.8.8"
  }
 },
 "nbformat": 4,
 "nbformat_minor": 5
}
